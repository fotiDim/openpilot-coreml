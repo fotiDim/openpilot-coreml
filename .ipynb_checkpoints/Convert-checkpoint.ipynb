{
 "cells": [
  {
   "cell_type": "code",
   "execution_count": null,
   "metadata": {},
   "outputs": [],
   "source": [
    "from tensorflow.keras.applications import MobileNet\n",
    "import tfcoreml\n",
    "import tensorflow as tf\n",
    "\n",
    "keras_model = MobileNet(weights=None, input_shape=(224, 224, 3))\n",
    "keras_model.save('./mobilenet.h5')\n",
    "# tf.saved_model.save(keras_model, './mobilenet')"
   ]
  },
  {
   "cell_type": "code",
   "execution_count": null,
   "metadata": {},
   "outputs": [],
   "source": [
    "# Convert h5 to SavedModel format\n",
    "from tensorflow import keras\n",
    "\n",
    "model = keras.models.load_model('mobilenet.h5')\n",
    "\n",
    "model.save('./mobilenet', save_format=\"tf\")"
   ]
  },
  {
   "cell_type": "code",
   "execution_count": null,
   "metadata": {},
   "outputs": [],
   "source": [
    "# Load the saved model\n",
    "import tensorflow as tf\n",
    "\n",
    "keras_model = tf.keras.models.load_model('./mobilenet')\n",
    "\n",
    "# get input, output node names for the TF graph from the Keras model\n",
    "print(keras_model.inputs)\n",
    "print(keras_model.input_shape)\n",
    "\n",
    "input_name = keras_model.inputs[0].name.split(':')[0]\n",
    "keras_output_node_name = keras_model.outputs[0].name.split(':')[0]\n",
    "graph_output_node_name = keras_output_node_name.split('/')[-1]"
   ]
  },
  {
   "cell_type": "code",
   "execution_count": null,
   "metadata": {},
   "outputs": [],
   "source": [
    "import tfcoreml\n",
    "\n",
    "model = tfcoreml.convert('./mobilenet',\n",
    "                         mlmodel_path='./mobilenet.mlmodel',\n",
    "                         input_name_shape_dict={'input_1': (1, 224, 224, 3)},\n",
    "                         output_feature_names=[graph_output_node_name],\n",
    "                         minimum_ios_deployment_target='13')"
   ]
  }
 ],
 "metadata": {
  "kernelspec": {
   "display_name": "Python 3",
   "language": "python",
   "name": "python3"
  },
  "language_info": {
   "codemirror_mode": {
    "name": "ipython",
    "version": 3
   },
   "file_extension": ".py",
   "mimetype": "text/x-python",
   "name": "python",
   "nbconvert_exporter": "python",
   "pygments_lexer": "ipython3",
   "version": "3.7.5"
  }
 },
 "nbformat": 4,
 "nbformat_minor": 4
}
